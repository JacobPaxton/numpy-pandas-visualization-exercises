{
 "cells": [
  {
   "cell_type": "code",
   "execution_count": 1,
   "id": "f912962a",
   "metadata": {},
   "outputs": [],
   "source": [
    "import numpy as np\n",
    "import pandas as pd"
   ]
  },
  {
   "cell_type": "code",
   "execution_count": 2,
   "id": "6ee1c798",
   "metadata": {},
   "outputs": [],
   "source": [
    "# Use pandas to create a Series named fruits from the following list\n",
    "fruits = pd.Series([\"kiwi\", \"mango\", \"strawberry\", \"pineapple\", \"gala apple\", \n",
    "                    \"honeycrisp apple\", \"tomato\", \"watermelon\", \"honeydew\", \n",
    "                    \"kiwi\", \"kiwi\", \"kiwi\", \"mango\", \"blueberry\", \"blackberry\", \n",
    "                    \"gooseberry\", \"papaya\"])"
   ]
  },
  {
   "cell_type": "code",
   "execution_count": 3,
   "id": "c0c5481d",
   "metadata": {},
   "outputs": [
    {
     "data": {
      "text/plain": [
       "0                 kiwi\n",
       "1                mango\n",
       "2           strawberry\n",
       "3            pineapple\n",
       "4           gala apple\n",
       "5     honeycrisp apple\n",
       "6               tomato\n",
       "7           watermelon\n",
       "8             honeydew\n",
       "9                 kiwi\n",
       "10                kiwi\n",
       "11                kiwi\n",
       "12               mango\n",
       "13           blueberry\n",
       "14          blackberry\n",
       "15          gooseberry\n",
       "16              papaya\n",
       "dtype: object"
      ]
     },
     "execution_count": 3,
     "metadata": {},
     "output_type": "execute_result"
    }
   ],
   "source": [
    "fruits"
   ]
  },
  {
   "cell_type": "code",
   "execution_count": 4,
   "id": "d77160e7",
   "metadata": {},
   "outputs": [
    {
     "data": {
      "text/plain": [
       "17"
      ]
     },
     "execution_count": 4,
     "metadata": {},
     "output_type": "execute_result"
    }
   ],
   "source": [
    "# Determine the number of elements in fruits\n",
    "fruits.size"
   ]
  },
  {
   "cell_type": "code",
   "execution_count": 5,
   "id": "498c183e",
   "metadata": {},
   "outputs": [
    {
     "data": {
      "text/plain": [
       "RangeIndex(start=0, stop=17, step=1)"
      ]
     },
     "execution_count": 5,
     "metadata": {},
     "output_type": "execute_result"
    }
   ],
   "source": [
    "# Output only the index from fruits\n",
    "fruits.index"
   ]
  },
  {
   "cell_type": "code",
   "execution_count": 6,
   "id": "c37d3c82",
   "metadata": {},
   "outputs": [
    {
     "data": {
      "text/plain": [
       "array(['kiwi', 'mango', 'strawberry', 'pineapple', 'gala apple',\n",
       "       'honeycrisp apple', 'tomato', 'watermelon', 'honeydew', 'kiwi',\n",
       "       'kiwi', 'kiwi', 'mango', 'blueberry', 'blackberry', 'gooseberry',\n",
       "       'papaya'], dtype=object)"
      ]
     },
     "execution_count": 6,
     "metadata": {},
     "output_type": "execute_result"
    }
   ],
   "source": [
    "# Output only the values from fruits\n",
    "# Confirm the data type of the values in fruits - dtype=object\n",
    "fruits.values"
   ]
  },
  {
   "cell_type": "code",
   "execution_count": 7,
   "id": "713f8c97",
   "metadata": {},
   "outputs": [
    {
     "data": {
      "text/plain": [
       "count       17\n",
       "unique      13\n",
       "top       kiwi\n",
       "freq         4\n",
       "dtype: object"
      ]
     },
     "execution_count": 7,
     "metadata": {},
     "output_type": "execute_result"
    }
   ],
   "source": [
    "# Run the .describe() on fruits to see what information it \n",
    "# returns when called on a Series with string values.\n",
    "fruits.describe()"
   ]
  },
  {
   "cell_type": "code",
   "execution_count": 8,
   "id": "638519ca",
   "metadata": {},
   "outputs": [
    {
     "data": {
      "text/plain": [
       "array(['kiwi', 'mango', 'strawberry', 'pineapple', 'gala apple',\n",
       "       'honeycrisp apple', 'tomato', 'watermelon', 'honeydew',\n",
       "       'blueberry', 'blackberry', 'gooseberry', 'papaya'], dtype=object)"
      ]
     },
     "execution_count": 8,
     "metadata": {},
     "output_type": "execute_result"
    }
   ],
   "source": [
    "# Run the code necessary to produce only the unique string values from fruits.\n",
    "pd.unique(fruits)"
   ]
  },
  {
   "cell_type": "code",
   "execution_count": 9,
   "id": "c9d92fbe",
   "metadata": {},
   "outputs": [
    {
     "data": {
      "text/plain": [
       "kiwi                4\n",
       "mango               2\n",
       "pineapple           1\n",
       "tomato              1\n",
       "watermelon          1\n",
       "gooseberry          1\n",
       "blueberry           1\n",
       "papaya              1\n",
       "gala apple          1\n",
       "honeydew            1\n",
       "strawberry          1\n",
       "honeycrisp apple    1\n",
       "blackberry          1\n",
       "dtype: int64"
      ]
     },
     "execution_count": 9,
     "metadata": {},
     "output_type": "execute_result"
    }
   ],
   "source": [
    "# Determine how many times each unique string value occurs in fruits.\n",
    "fruits.value_counts(normalize=False, sort=True, ascending=False)"
   ]
  },
  {
   "cell_type": "code",
   "execution_count": 10,
   "id": "2e7f3acd",
   "metadata": {},
   "outputs": [
    {
     "data": {
      "text/plain": [
       "kiwi    4\n",
       "dtype: int64"
      ]
     },
     "execution_count": 10,
     "metadata": {},
     "output_type": "execute_result"
    }
   ],
   "source": [
    "# Determine the string value that occurs most frequently in fruits.\n",
    "fruit_counts = fruits.value_counts()\n",
    "max_count = max(fruit_counts.values)\n",
    "fruit_counts[fruit_counts == max_count]"
   ]
  },
  {
   "cell_type": "code",
   "execution_count": 11,
   "id": "ccf11c66",
   "metadata": {},
   "outputs": [
    {
     "data": {
      "text/plain": [
       "pineapple           1\n",
       "tomato              1\n",
       "watermelon          1\n",
       "gooseberry          1\n",
       "blueberry           1\n",
       "papaya              1\n",
       "gala apple          1\n",
       "honeydew            1\n",
       "strawberry          1\n",
       "honeycrisp apple    1\n",
       "blackberry          1\n",
       "dtype: int64"
      ]
     },
     "execution_count": 11,
     "metadata": {},
     "output_type": "execute_result"
    }
   ],
   "source": [
    "# Determine the string value that occurs least frequently in fruits.\n",
    "fruit_counts = fruits.value_counts()\n",
    "min_count = min(fruit_counts.values)\n",
    "fruit_counts[fruit_counts == min_count]"
   ]
  },
  {
   "cell_type": "code",
   "execution_count": 12,
   "id": "8e72e982",
   "metadata": {},
   "outputs": [
    {
     "data": {
      "text/plain": [
       "0                 Kiwi\n",
       "1                Mango\n",
       "2           Strawberry\n",
       "3            Pineapple\n",
       "4           Gala apple\n",
       "5     Honeycrisp apple\n",
       "6               Tomato\n",
       "7           Watermelon\n",
       "8             Honeydew\n",
       "9                 Kiwi\n",
       "10                Kiwi\n",
       "11                Kiwi\n",
       "12               Mango\n",
       "13           Blueberry\n",
       "14          Blackberry\n",
       "15          Gooseberry\n",
       "16              Papaya\n",
       "dtype: object"
      ]
     },
     "execution_count": 12,
     "metadata": {},
     "output_type": "execute_result"
    }
   ],
   "source": [
    "# Capitalize all the string values in fruits.\n",
    "fruits.str.capitalize()"
   ]
  },
  {
   "cell_type": "code",
   "execution_count": 13,
   "id": "61cd3c56",
   "metadata": {},
   "outputs": [
    {
     "data": {
      "text/plain": [
       "0     0\n",
       "1     1\n",
       "2     1\n",
       "3     1\n",
       "4     3\n",
       "5     1\n",
       "6     1\n",
       "7     1\n",
       "8     0\n",
       "9     0\n",
       "10    0\n",
       "11    0\n",
       "12    1\n",
       "13    0\n",
       "14    1\n",
       "15    0\n",
       "16    3\n",
       "dtype: int64"
      ]
     },
     "execution_count": 13,
     "metadata": {},
     "output_type": "execute_result"
    }
   ],
   "source": [
    "# Count the letter 'a' in all the string values (use string vectorization).\n",
    "fruits.str.count('a')"
   ]
  },
  {
   "cell_type": "code",
   "execution_count": 14,
   "id": "358c4b5b",
   "metadata": {},
   "outputs": [
    {
     "data": {
      "text/plain": [
       "0     2\n",
       "1     2\n",
       "2     2\n",
       "3     4\n",
       "4     4\n",
       "5     5\n",
       "6     3\n",
       "7     4\n",
       "8     3\n",
       "9     2\n",
       "10    2\n",
       "11    2\n",
       "12    2\n",
       "13    3\n",
       "14    2\n",
       "15    4\n",
       "16    3\n",
       "dtype: int64"
      ]
     },
     "execution_count": 14,
     "metadata": {},
     "output_type": "execute_result"
    }
   ],
   "source": [
    "# Output the number of vowels in each and every string value.\n",
    "vowel_count_array = fruits.apply(lambda row: [char for char in row if char.lower() in 'aeiou']).apply(len)\n",
    "vowel_count_array\n",
    "# Another way to solve it: data.str.count(r'[aeiou]')"
   ]
  },
  {
   "cell_type": "code",
   "execution_count": 15,
   "id": "8861aa19",
   "metadata": {},
   "outputs": [
    {
     "data": {
      "text/plain": [
       "5    honeycrisp apple\n",
       "dtype: object"
      ]
     },
     "execution_count": 15,
     "metadata": {},
     "output_type": "execute_result"
    }
   ],
   "source": [
    "# Write the code to get the longest string value from fruits.\n",
    "# Create array of indexed string lengths.\n",
    "fruit_lengths = fruits.str.len()\n",
    "# Find longest string.\n",
    "max_str_len = max(fruit_lengths)\n",
    "# Use boolean mask to find values with longest length.\n",
    "fruits[fruit_lengths == max_str_len]"
   ]
  },
  {
   "cell_type": "code",
   "execution_count": 16,
   "id": "aa18aaee",
   "metadata": {},
   "outputs": [
    {
     "data": {
      "text/plain": [
       "1                mango\n",
       "2           strawberry\n",
       "3            pineapple\n",
       "4           gala apple\n",
       "5     honeycrisp apple\n",
       "6               tomato\n",
       "7           watermelon\n",
       "8             honeydew\n",
       "12               mango\n",
       "13           blueberry\n",
       "14          blackberry\n",
       "15          gooseberry\n",
       "16              papaya\n",
       "dtype: object"
      ]
     },
     "execution_count": 16,
     "metadata": {},
     "output_type": "execute_result"
    }
   ],
   "source": [
    "# Write the code to get the string values with 5 or more letters in the name.\n",
    "# Use indexed string length array for boolean mask.\n",
    "fruits[fruit_lengths >= 5]"
   ]
  },
  {
   "cell_type": "code",
   "execution_count": 17,
   "id": "30131e3e",
   "metadata": {},
   "outputs": [
    {
     "data": {
      "text/plain": [
       "6         tomato\n",
       "15    gooseberry\n",
       "dtype: object"
      ]
     },
     "execution_count": 17,
     "metadata": {},
     "output_type": "execute_result"
    }
   ],
   "source": [
    "# Use the .apply method with a lambda function to \n",
    "# find the fruit(s) containing the letter \"o\" two or more times.\n",
    "mask = fruits.apply(lambda row: row.count('o') >= 2)\n",
    "fruits[mask]"
   ]
  },
  {
   "cell_type": "code",
   "execution_count": 18,
   "id": "dc6f9c71",
   "metadata": {},
   "outputs": [
    {
     "data": {
      "text/plain": [
       "2     strawberry\n",
       "13     blueberry\n",
       "14    blackberry\n",
       "15    gooseberry\n",
       "dtype: object"
      ]
     },
     "execution_count": 18,
     "metadata": {},
     "output_type": "execute_result"
    }
   ],
   "source": [
    "# Write the code to get only the string values containing the substring \"berry\".\n",
    "mask = fruits.apply(lambda row: 'berry' in row)\n",
    "fruits[mask]"
   ]
  },
  {
   "cell_type": "code",
   "execution_count": 19,
   "id": "5e748ce1",
   "metadata": {},
   "outputs": [
    {
     "data": {
      "text/plain": [
       "3           pineapple\n",
       "4          gala apple\n",
       "5    honeycrisp apple\n",
       "dtype: object"
      ]
     },
     "execution_count": 19,
     "metadata": {},
     "output_type": "execute_result"
    }
   ],
   "source": [
    "# Write the code to get only the string values containing the substring \"apple\".\n",
    "mask = fruits.apply(lambda row: 'apple' in row)\n",
    "fruits[mask]"
   ]
  },
  {
   "cell_type": "code",
   "execution_count": 20,
   "id": "cbff4617",
   "metadata": {},
   "outputs": [
    {
     "data": {
      "text/plain": [
       "5    honeycrisp apple\n",
       "dtype: object"
      ]
     },
     "execution_count": 20,
     "metadata": {},
     "output_type": "execute_result"
    }
   ],
   "source": [
    "# Which string value contains the most vowels?\n",
    "max_vowel_count = max(vowel_count_array)\n",
    "array_of_max_indices = vowel_count_array[vowel_count_array == max_vowel_count]\n",
    "fruits[array_of_max_indices]"
   ]
  },
  {
   "cell_type": "code",
   "execution_count": 43,
   "id": "8b55591e",
   "metadata": {},
   "outputs": [
    {
     "data": {
      "text/plain": [
       "0      h\n",
       "1      n\n",
       "2      v\n",
       "3      i\n",
       "4      d\n",
       "      ..\n",
       "195    r\n",
       "196    o\n",
       "197    g\n",
       "198    u\n",
       "199    y\n",
       "Length: 200, dtype: object"
      ]
     },
     "execution_count": 43,
     "metadata": {},
     "output_type": "execute_result"
    }
   ],
   "source": [
    "# Use pandas to create a Series named letters from the following string:\n",
    "letters = pd.Series(list('hnvidduckkqxwymbimkccexbkmqygkxoyndmcxnwqarhyffsjpsrabtjzsypmzadfavyrnndndvswreauxovncxtwzpwejilzjrmmbbgbyxvjtewqthafnbkqplarokkyydtubbmnexoypulzwfhqvckdpqtpoppzqrmcvhhpwgjwupgzhiofohawytlsiyecuproguy'))\n",
    "letters"
   ]
  },
  {
   "cell_type": "code",
   "execution_count": 33,
   "id": "2d1745a6",
   "metadata": {},
   "outputs": [
    {
     "data": {
      "text/plain": [
       "count     200\n",
       "unique     26\n",
       "top         y\n",
       "freq       13\n",
       "dtype: object"
      ]
     },
     "execution_count": 33,
     "metadata": {},
     "output_type": "execute_result"
    }
   ],
   "source": [
    "# Which letter occurs the most frequently in the letters Series?\n",
    "letters.describe()"
   ]
  },
  {
   "cell_type": "code",
   "execution_count": 34,
   "id": "fea790ff",
   "metadata": {},
   "outputs": [
    {
     "data": {
      "text/plain": [
       "y    13\n",
       "p    12\n",
       "w    10\n",
       "n     9\n",
       "b     9\n",
       "m     9\n",
       "k     9\n",
       "a     8\n",
       "q     8\n",
       "r     8\n",
       "x     8\n",
       "d     8\n",
       "h     8\n",
       "o     8\n",
       "c     8\n",
       "v     7\n",
       "z     7\n",
       "t     7\n",
       "u     7\n",
       "e     6\n",
       "f     6\n",
       "j     6\n",
       "s     5\n",
       "i     5\n",
       "g     5\n",
       "l     4\n",
       "dtype: int64"
      ]
     },
     "execution_count": 34,
     "metadata": {},
     "output_type": "execute_result"
    }
   ],
   "source": [
    "# Which letter occurs the least frequently in the letters Series?\n",
    "letters.value_counts()"
   ]
  },
  {
   "cell_type": "code",
   "execution_count": 38,
   "id": "254c03ce",
   "metadata": {},
   "outputs": [
    {
     "data": {
      "text/plain": [
       "34"
      ]
     },
     "execution_count": 38,
     "metadata": {},
     "output_type": "execute_result"
    }
   ],
   "source": [
    "# How many vowels in the series?\n",
    "count = 0\n",
    "for char in letters:\n",
    "    if char.lower() in 'aeiou':\n",
    "        count += 1\n",
    "count"
   ]
  },
  {
   "cell_type": "code",
   "execution_count": 39,
   "id": "21a55c7b",
   "metadata": {},
   "outputs": [
    {
     "data": {
      "text/plain": [
       "166"
      ]
     },
     "execution_count": 39,
     "metadata": {},
     "output_type": "execute_result"
    }
   ],
   "source": [
    "# How many consonants?\n",
    "len(letters) - count"
   ]
  },
  {
   "cell_type": "code",
   "execution_count": 42,
   "id": "549deb10",
   "metadata": {},
   "outputs": [
    {
     "data": {
      "text/plain": [
       "0      H\n",
       "1      N\n",
       "2      V\n",
       "3      I\n",
       "4      D\n",
       "      ..\n",
       "195    R\n",
       "196    O\n",
       "197    G\n",
       "198    U\n",
       "199    Y\n",
       "Length: 200, dtype: object"
      ]
     },
     "execution_count": 42,
     "metadata": {},
     "output_type": "execute_result"
    }
   ],
   "source": [
    "# Create a Series that has all of the same letters but uppercased.\n",
    "uppercased = letters.str.upper()\n",
    "uppercased"
   ]
  },
  {
   "cell_type": "code",
   "execution_count": 46,
   "id": "14ad4f72",
   "metadata": {
    "scrolled": true
   },
   "outputs": [
    {
     "data": {
      "text/plain": [
       "<AxesSubplot:>"
      ]
     },
     "execution_count": 46,
     "metadata": {},
     "output_type": "execute_result"
    },
    {
     "data": {
      "image/png": "[encoded data removed]",
      "text/plain": [
       "<Figure size 432x288 with 1 Axes>"
      ]
     },
     "metadata": {
      "needs_background": "light"
     },
     "output_type": "display_data"
    }
   ],
   "source": [
    "# Create a bar plot of the frequencies of the 6 most commonly occuring letters.\n",
    "six_most_freq = letters.value_counts().head(6)\n",
    "six_most_freq.plot.barh()"
   ]
  },
  {
   "cell_type": "code",
   "execution_count": 48,
   "id": "f0dc29b8",
   "metadata": {},
   "outputs": [],
   "source": [
    "# Use pandas to create a Series named numbers from the following list:\n",
    "numbers = pd.Series(['$796,459.41', '$278.60', '$482,571.67', '$4,503,915.98', '$2,121,418.3', '$1,260,813.3', '$87,231.01', '$1,509,175.45', '$4,138,548.00', '$2,848,913.80', '$594,715.39', '$4,789,988.17', '$4,513,644.5', '$3,191,059.97', '$1,758,712.24', '$4,338,283.54', '$4,738,303.38', '$2,791,759.67', '$769,681.94', '$452,650.23'])"
   ]
  },
  {
   "cell_type": "code",
   "execution_count": 49,
   "id": "11a26333",
   "metadata": {},
   "outputs": [
    {
     "data": {
      "text/plain": [
       "dtype('O')"
      ]
     },
     "execution_count": 49,
     "metadata": {},
     "output_type": "execute_result"
    }
   ],
   "source": [
    "# What is the data type of the numbers Series?\n",
    "numbers.dtype"
   ]
  },
  {
   "cell_type": "code",
   "execution_count": 50,
   "id": "4deb05b5",
   "metadata": {},
   "outputs": [
    {
     "data": {
      "text/plain": [
       "20"
      ]
     },
     "execution_count": 50,
     "metadata": {},
     "output_type": "execute_result"
    }
   ],
   "source": [
    "# How many elements are in the number Series?\n",
    "len(numbers)"
   ]
  },
  {
   "cell_type": "code",
   "execution_count": 60,
   "id": "1bfbfc4c",
   "metadata": {},
   "outputs": [
    {
     "data": {
      "text/plain": [
       "0      796459.41\n",
       "1         278.60\n",
       "2      482571.67\n",
       "3     4503915.98\n",
       "4     2121418.30\n",
       "5     1260813.30\n",
       "6       87231.01\n",
       "7     1509175.45\n",
       "8     4138548.00\n",
       "9     2848913.80\n",
       "10     594715.39\n",
       "11    4789988.17\n",
       "12    4513644.50\n",
       "13    3191059.97\n",
       "14    1758712.24\n",
       "15    4338283.54\n",
       "16    4738303.38\n",
       "17    2791759.67\n",
       "18     769681.94\n",
       "19     452650.23\n",
       "dtype: float64"
      ]
     },
     "execution_count": 60,
     "metadata": {},
     "output_type": "execute_result"
    }
   ],
   "source": [
    "# Perform the necessary manipulations by accessing Series attributes and methods to\n",
    "# convert the numbers Series to a numeric data type.\n",
    "def convert_money(number):\n",
    "    number = number[1:]\n",
    "    number = number.replace(\",\", \"\")\n",
    "    return float(number)\n",
    "    \n",
    "fixed_numbers = numbers.apply(convert_money)\n",
    "fixed_numbers"
   ]
  },
  {
   "cell_type": "code",
   "execution_count": 61,
   "id": "402737c9",
   "metadata": {},
   "outputs": [
    {
     "data": {
      "text/plain": [
       "4789988.17"
      ]
     },
     "execution_count": 61,
     "metadata": {},
     "output_type": "execute_result"
    }
   ],
   "source": [
    "# Run the code to discover the maximum value from the Series.\n",
    "max(fixed_numbers)"
   ]
  },
  {
   "cell_type": "code",
   "execution_count": 62,
   "id": "1181f1db",
   "metadata": {},
   "outputs": [
    {
     "data": {
      "text/plain": [
       "278.6"
      ]
     },
     "execution_count": 62,
     "metadata": {},
     "output_type": "execute_result"
    }
   ],
   "source": [
    "# Run the code to discover the minimum value from the Series.\n",
    "min(fixed_numbers)"
   ]
  },
  {
   "cell_type": "code",
   "execution_count": 64,
   "id": "22e6fd67",
   "metadata": {},
   "outputs": [
    {
     "name": "stdout",
     "output_type": "stream",
     "text": [
      "Range of values: 278.6 - 4789988.17\n"
     ]
    }
   ],
   "source": [
    "# What is the range of the values in the Series?\n",
    "print(\"Range of values:\", min(fixed_numbers), \"-\", max(fixed_numbers))"
   ]
  },
  {
   "cell_type": "code",
   "execution_count": 91,
   "id": "8a4152ef",
   "metadata": {},
   "outputs": [
    {
     "data": {
      "text/plain": [
       "(0, 1200000]          7\n",
       "(3600000, 4800000]    6\n",
       "(1200000, 2400000]    4\n",
       "(2400000, 3600000]    3\n",
       "dtype: int64"
      ]
     },
     "execution_count": 91,
     "metadata": {},
     "output_type": "execute_result"
    }
   ],
   "source": [
    "# Bin the data into 4 equally sized intervals or bins and \n",
    "# output how many values fall into each bin.\n",
    "bin_array = pd.cut(fixed_numbers, [0, 1200000, 2400000, 3600000, 4800000])\n",
    "bin_value_count_array = bin_array.value_counts()\n",
    "bin_value_count_array"
   ]
  },
  {
   "cell_type": "code",
   "execution_count": 94,
   "id": "3bba94d4",
   "metadata": {},
   "outputs": [
    {
     "data": {
      "text/plain": [
       "<AxesSubplot:title={'center':'Frequency of Money List in Ranges'}, ylabel='Money Range'>"
      ]
     },
     "execution_count": 94,
     "metadata": {},
     "output_type": "execute_result"
    },
    {
     "data": {
      "image/png": "[encoded data removed]",
      "text/plain": [
       "<Figure size 432x288 with 1 Axes>"
      ]
     },
     "metadata": {
      "needs_background": "light"
     },
     "output_type": "display_data"
    }
   ],
   "source": [
    "# Plot the binned data in a meaningful way. Be sure to include a title and axis labels.\n",
    "bin_value_count_array.sort_values().plot.barh(title=\"Frequency of Money List in Ranges\", \n",
    "                                              xlabel=\"Money Range\", \n",
    "                                              ylabel=\"Count of values in range\")"
   ]
  },
  {
   "cell_type": "code",
   "execution_count": 95,
   "id": "25e85867",
   "metadata": {},
   "outputs": [],
   "source": [
    "exam_scores = pd.Series([60, 86, 75, 62, 93, 71, 60, 83, 95, 78, 65, 72, 69, 81, 96, 80, 85, 92, 82, 78])"
   ]
  },
  {
   "cell_type": "code",
   "execution_count": 96,
   "id": "7cdd2a58",
   "metadata": {},
   "outputs": [
    {
     "data": {
      "text/plain": [
       "20"
      ]
     },
     "execution_count": 96,
     "metadata": {},
     "output_type": "execute_result"
    }
   ],
   "source": [
    "# How many elements are in the exam_scores Series?\n",
    "exam_scores.size"
   ]
  },
  {
   "cell_type": "code",
   "execution_count": 101,
   "id": "eab5f119",
   "metadata": {},
   "outputs": [
    {
     "name": "stdout",
     "output_type": "stream",
     "text": [
      "Min: 60 Max: 96 Mean: 78.15 Median: 79.0\n"
     ]
    }
   ],
   "source": [
    "# Run the code to discover the minimum, the maximum, the mean, and \n",
    "# the median scores for the exam_scores Series.\n",
    "print(\"Min:\", min(exam_scores), \"Max:\", max(exam_scores), \"Mean:\", np.mean(exam_scores), \"Median:\", np.median(exam_scores))"
   ]
  },
  {
   "cell_type": "code",
   "execution_count": 116,
   "id": "fb02600f",
   "metadata": {},
   "outputs": [
    {
     "data": {
      "text/plain": [
       "<AxesSubplot:title={'center':'Grade Scores'}, ylabel='Grade Range'>"
      ]
     },
     "execution_count": 116,
     "metadata": {},
     "output_type": "execute_result"
    },
    {
     "data": {
      "image/png": "[encoded data removed]",
      "text/plain": [
       "<Figure size 432x288 with 1 Axes>"
      ]
     },
     "metadata": {
      "needs_background": "light"
     },
     "output_type": "display_data"
    }
   ],
   "source": [
    "# Plot the Series in a meaningful way and make sure your chart has a title and axis labels.\n",
    "exam_scores_binned = pd.cut(exam_scores, bins=[50,60,70,80,90,100])\n",
    "exam_scores_binned.value_counts().plot.barh(title=\"Grade Scores\", xlabel=\"Grade Range\", ylabel=\"Number of Grades\")"
   ]
  },
  {
   "cell_type": "code",
   "execution_count": null,
   "id": "43aca330",
   "metadata": {},
   "outputs": [],
   "source": [
    "# Write the code necessary to implement a curve for your exam_grades Series and \n",
    "# save this as curved_grades. Add the necessary points to the highest grade to \n",
    "# make it 100, and add the same number of points to every other score in the Series as well.\n"
   ]
  }
 ],
 "metadata": {
  "kernelspec": {
   "display_name": "Python 3",
   "language": "python",
   "name": "python3"
  },
  "language_info": {
   "codemirror_mode": {
    "name": "ipython",
    "version": 3
   },
   "file_extension": ".py",
   "mimetype": "text/x-python",
   "name": "python",
   "nbconvert_exporter": "python",
   "pygments_lexer": "ipython3",
   "version": "3.8.8"
  }
 },
 "nbformat": 4,
 "nbformat_minor": 5
}
